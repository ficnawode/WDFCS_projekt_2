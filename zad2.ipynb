{
 "cells": [
  {
   "cell_type": "code",
   "execution_count": 1,
   "metadata": {},
   "outputs": [],
   "source": [
    "import numpy as np\n",
    "import pandas as pd\n",
    "from matplotlib import pyplot as plt"
   ]
  },
  {
   "cell_type": "code",
   "execution_count": 11,
   "metadata": {},
   "outputs": [
    {
     "name": "stdout",
     "output_type": "stream",
     "text": [
      "lambda =  4.3400000000000005e-07 m\n",
      "E_f =  2.849451390095322 eV\n"
     ]
    }
   ],
   "source": [
    "def J_to_eV(x):\n",
    "    return 6.242e+18*x\n",
    "\n",
    "_nr_indeksu = 311534\n",
    "_lambda = ((_nr_indeksu % 6 + 2)*100 + _nr_indeksu % 100 )*1e-9#m\n",
    "_h = 6.62607015e-34 #m^2 kg/s\n",
    "_c = 2.99e8 #m/s\n",
    "_Ef = J_to_eV( _h*_c/(_lambda))\n",
    "print('lambda = ', _lambda, 'm')\n",
    "print('E_f = ', _Ef, 'eV')\n",
    "#kolor będzie fioletowy"
   ]
  }
 ],
 "metadata": {
  "kernelspec": {
   "display_name": "dataconda",
   "language": "python",
   "name": "python3"
  },
  "language_info": {
   "codemirror_mode": {
    "name": "ipython",
    "version": 3
   },
   "file_extension": ".py",
   "mimetype": "text/x-python",
   "name": "python",
   "nbconvert_exporter": "python",
   "pygments_lexer": "ipython3",
   "version": "3.10.4"
  },
  "orig_nbformat": 4,
  "vscode": {
   "interpreter": {
    "hash": "06d5f6a7192f7da15f00af0bef5004458982aa75eb1affdf296843002ced5906"
   }
  }
 },
 "nbformat": 4,
 "nbformat_minor": 2
}
