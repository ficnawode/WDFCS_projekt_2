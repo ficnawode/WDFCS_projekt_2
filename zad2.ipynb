{
 "cells": [
  {
   "cell_type": "code",
   "execution_count": 22,
   "metadata": {},
   "outputs": [],
   "source": [
    "import numpy as np\n",
    "import pandas as pd\n",
    "from matplotlib import pyplot as plt"
   ]
  },
  {
   "cell_type": "code",
   "execution_count": 23,
   "metadata": {},
   "outputs": [
    {
     "name": "stdout",
     "output_type": "stream",
     "text": [
      "lambda =  4.3400000000000005e-07 m\n",
      "E_f =  4.564965379838709e-19 J = 2.849451390095322 eV\n"
     ]
    }
   ],
   "source": [
    "def J_to_eV(x):\n",
    "    return 6.242e+18*x\n",
    "\n",
    "def eV_to_J(x):\n",
    "    return x/6.242e+18\n",
    "\n",
    "_nr_indeksu = 311534\n",
    "_lambda = ((_nr_indeksu % 6 + 2)*100 + _nr_indeksu % 100 )*1e-9#m\n",
    "_h = 6.62607015e-34 #m^2 kg/s\n",
    "_c = 2.99e8 #m/s\n",
    "_Ef = _h*_c/(_lambda)\n",
    "print('lambda = ', _lambda, 'm')\n",
    "print('E_f = ', _Ef, 'J =', J_to_eV(_Ef), 'eV')\n",
    "#kolor będzie fioletowy"
   ]
  },
  {
   "cell_type": "code",
   "execution_count": 24,
   "metadata": {},
   "outputs": [
    {
     "data": {
      "text/plain": [
       "3.925024030759372e-21"
      ]
     },
     "execution_count": 24,
     "metadata": {},
     "output_type": "execute_result"
    }
   ],
   "source": [
    "_En = eV_to_J(0.0245)\n",
    "_En\n"
   ]
  },
  {
   "cell_type": "code",
   "execution_count": 27,
   "metadata": {},
   "outputs": [
    {
     "data": {
      "text/plain": [
       "1.1081291301893394e-08"
      ]
     },
     "execution_count": 27,
     "metadata": {},
     "output_type": "execute_result"
    }
   ],
   "source": [
    "\n",
    "_me = 9.1093837e-31 #kg\n",
    "\n",
    "_d = np.sqrt(_h**2 /(_me * _En) )\n",
    "_d"
   ]
  },
  {
   "cell_type": "code",
   "execution_count": 29,
   "metadata": {},
   "outputs": [
    {
     "data": {
      "text/plain": [
       "19.61290495910335"
      ]
     },
     "execution_count": 29,
     "metadata": {},
     "output_type": "execute_result"
    }
   ],
   "source": [
    "_a = 5.65e-10 #m\n",
    "_d/_a"
   ]
  },
  {
   "cell_type": "code",
   "execution_count": 31,
   "metadata": {},
   "outputs": [
    {
     "data": {
      "text/plain": [
       "0.05263157894736839"
      ]
     },
     "execution_count": 31,
     "metadata": {},
     "output_type": "execute_result"
    }
   ],
   "source": [
    "a_ZnS = 5.7\n",
    "a_ZnSe = 5.4\n",
    "delta_a = (a_ZnS - a_ZnSe) / a_ZnS\n",
    "delta_a"
   ]
  },
  {
   "cell_type": "code",
   "execution_count": null,
   "metadata": {},
   "outputs": [],
   "source": []
  }
 ],
 "metadata": {
  "kernelspec": {
   "display_name": "dataconda",
   "language": "python",
   "name": "python3"
  },
  "language_info": {
   "codemirror_mode": {
    "name": "ipython",
    "version": 3
   },
   "file_extension": ".py",
   "mimetype": "text/x-python",
   "name": "python",
   "nbconvert_exporter": "python",
   "pygments_lexer": "ipython3",
   "version": "3.10.4"
  },
  "orig_nbformat": 4,
  "vscode": {
   "interpreter": {
    "hash": "06d5f6a7192f7da15f00af0bef5004458982aa75eb1affdf296843002ced5906"
   }
  }
 },
 "nbformat": 4,
 "nbformat_minor": 2
}
